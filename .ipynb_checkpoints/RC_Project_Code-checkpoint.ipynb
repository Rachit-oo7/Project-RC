{
 "cells": [
  {
   "cell_type": "markdown",
   "metadata": {},
   "source": [
    "## Installing required modules"
   ]
  },
  {
   "cell_type": "code",
   "execution_count": 59,
   "metadata": {},
   "outputs": [
    {
     "name": "stdout",
     "output_type": "stream",
     "text": [
      "Requirement already satisfied: pytesseract in c:\\users\\rkt30\\appdata\\roaming\\python\\python37\\site-packages (0.3.0)\n",
      "Requirement already satisfied: Pillow in c:\\users\\rkt30\\snake\\lib\\site-packages (from pytesseract) (6.1.0)\n",
      "Collecting tempfile\n",
      "  Could not fetch URL https://pypi.org/simple/tempfile/: There was a problem confirming the ssl certificate: HTTPSConnectionPool(host='pypi.org', port=443): Max retries exceeded with url: /simple/tempfile/ (Caused by SSLError(SSLCertVerificationError(1, '[SSL: CERTIFICATE_VERIFY_FAILED] certificate verify failed: self signed certificate in certificate chain (_ssl.c:1056)'))) - skipping\n"
     ]
    },
    {
     "name": "stderr",
     "output_type": "stream",
     "text": [
      "  WARNING: Retrying (Retry(total=4, connect=None, read=None, redirect=None, status=None)) after connection broken by 'SSLError(SSLCertVerificationError(1, '[SSL: CERTIFICATE_VERIFY_FAILED] certificate verify failed: self signed certificate in certificate chain (_ssl.c:1056)'))': /simple/tempfile/\n",
      "  WARNING: Retrying (Retry(total=3, connect=None, read=None, redirect=None, status=None)) after connection broken by 'SSLError(SSLCertVerificationError(1, '[SSL: CERTIFICATE_VERIFY_FAILED] certificate verify failed: self signed certificate in certificate chain (_ssl.c:1056)'))': /simple/tempfile/\n",
      "  WARNING: Retrying (Retry(total=2, connect=None, read=None, redirect=None, status=None)) after connection broken by 'SSLError(SSLCertVerificationError(1, '[SSL: CERTIFICATE_VERIFY_FAILED] certificate verify failed: self signed certificate in certificate chain (_ssl.c:1056)'))': /simple/tempfile/\n",
      "  WARNING: Retrying (Retry(total=1, connect=None, read=None, redirect=None, status=None)) after connection broken by 'SSLError(SSLCertVerificationError(1, '[SSL: CERTIFICATE_VERIFY_FAILED] certificate verify failed: self signed certificate in certificate chain (_ssl.c:1056)'))': /simple/tempfile/\n",
      "  WARNING: Retrying (Retry(total=0, connect=None, read=None, redirect=None, status=None)) after connection broken by 'SSLError(SSLCertVerificationError(1, '[SSL: CERTIFICATE_VERIFY_FAILED] certificate verify failed: self signed certificate in certificate chain (_ssl.c:1056)'))': /simple/tempfile/\n",
      "  ERROR: Could not find a version that satisfies the requirement tempfile (from versions: none)\n",
      "ERROR: No matching distribution found for tempfile\n"
     ]
    },
    {
     "name": "stdout",
     "output_type": "stream",
     "text": [
      "Requirement already satisfied: imutils in c:\\users\\rkt30\\snake\\lib\\site-packages (0.5.3)\n",
      "Requirement already satisfied: datefinder in c:\\users\\rkt30\\snake\\lib\\site-packages (0.7.0)\n",
      "Requirement already satisfied: regex>=2017.02.08 in c:\\users\\rkt30\\snake\\lib\\site-packages (from datefinder) (2019.11.1)\n",
      "Requirement already satisfied: pytz in c:\\users\\rkt30\\snake\\lib\\site-packages (from datefinder) (2019.1)\n",
      "Requirement already satisfied: python-dateutil>=2.4.2 in c:\\users\\rkt30\\snake\\lib\\site-packages (from datefinder) (2.8.0)\n",
      "Requirement already satisfied: six>=1.5 in c:\\users\\rkt30\\snake\\lib\\site-packages (from python-dateutil>=2.4.2->datefinder) (1.12.0)\n",
      "Collecting cv2\n",
      "  Could not fetch URL https://pypi.org/simple/cv2/: There was a problem confirming the ssl certificate: HTTPSConnectionPool(host='pypi.org', port=443): Max retries exceeded with url: /simple/cv2/ (Caused by SSLError(SSLCertVerificationError(1, '[SSL: CERTIFICATE_VERIFY_FAILED] certificate verify failed: self signed certificate in certificate chain (_ssl.c:1056)'))) - skipping\n"
     ]
    },
    {
     "name": "stderr",
     "output_type": "stream",
     "text": [
      "  WARNING: Retrying (Retry(total=4, connect=None, read=None, redirect=None, status=None)) after connection broken by 'SSLError(SSLCertVerificationError(1, '[SSL: CERTIFICATE_VERIFY_FAILED] certificate verify failed: self signed certificate in certificate chain (_ssl.c:1056)'))': /simple/cv2/\n",
      "  WARNING: Retrying (Retry(total=3, connect=None, read=None, redirect=None, status=None)) after connection broken by 'SSLError(SSLCertVerificationError(1, '[SSL: CERTIFICATE_VERIFY_FAILED] certificate verify failed: self signed certificate in certificate chain (_ssl.c:1056)'))': /simple/cv2/\n",
      "  WARNING: Retrying (Retry(total=2, connect=None, read=None, redirect=None, status=None)) after connection broken by 'SSLError(SSLCertVerificationError(1, '[SSL: CERTIFICATE_VERIFY_FAILED] certificate verify failed: self signed certificate in certificate chain (_ssl.c:1056)'))': /simple/cv2/\n",
      "  WARNING: Retrying (Retry(total=1, connect=None, read=None, redirect=None, status=None)) after connection broken by 'SSLError(SSLCertVerificationError(1, '[SSL: CERTIFICATE_VERIFY_FAILED] certificate verify failed: self signed certificate in certificate chain (_ssl.c:1056)'))': /simple/cv2/\n",
      "  WARNING: Retrying (Retry(total=0, connect=None, read=None, redirect=None, status=None)) after connection broken by 'SSLError(SSLCertVerificationError(1, '[SSL: CERTIFICATE_VERIFY_FAILED] certificate verify failed: self signed certificate in certificate chain (_ssl.c:1056)'))': /simple/cv2/\n",
      "  ERROR: Could not find a version that satisfies the requirement cv2 (from versions: none)\n",
      "ERROR: No matching distribution found for cv2\n"
     ]
    },
    {
     "name": "stdout",
     "output_type": "stream",
     "text": [
      "Collecting PIL\n",
      "  Could not fetch URL https://pypi.org/simple/pil/: There was a problem confirming the ssl certificate: HTTPSConnectionPool(host='pypi.org', port=443): Max retries exceeded with url: /simple/pil/ (Caused by SSLError(SSLCertVerificationError(1, '[SSL: CERTIFICATE_VERIFY_FAILED] certificate verify failed: self signed certificate in certificate chain (_ssl.c:1056)'))) - skipping\n"
     ]
    },
    {
     "name": "stderr",
     "output_type": "stream",
     "text": [
      "  WARNING: Retrying (Retry(total=4, connect=None, read=None, redirect=None, status=None)) after connection broken by 'SSLError(SSLCertVerificationError(1, '[SSL: CERTIFICATE_VERIFY_FAILED] certificate verify failed: self signed certificate in certificate chain (_ssl.c:1056)'))': /simple/pil/\n",
      "  WARNING: Retrying (Retry(total=3, connect=None, read=None, redirect=None, status=None)) after connection broken by 'SSLError(SSLCertVerificationError(1, '[SSL: CERTIFICATE_VERIFY_FAILED] certificate verify failed: self signed certificate in certificate chain (_ssl.c:1056)'))': /simple/pil/\n",
      "  WARNING: Retrying (Retry(total=2, connect=None, read=None, redirect=None, status=None)) after connection broken by 'SSLError(SSLCertVerificationError(1, '[SSL: CERTIFICATE_VERIFY_FAILED] certificate verify failed: self signed certificate in certificate chain (_ssl.c:1056)'))': /simple/pil/\n",
      "  WARNING: Retrying (Retry(total=1, connect=None, read=None, redirect=None, status=None)) after connection broken by 'SSLError(SSLCertVerificationError(1, '[SSL: CERTIFICATE_VERIFY_FAILED] certificate verify failed: self signed certificate in certificate chain (_ssl.c:1056)'))': /simple/pil/\n",
      "  WARNING: Retrying (Retry(total=0, connect=None, read=None, redirect=None, status=None)) after connection broken by 'SSLError(SSLCertVerificationError(1, '[SSL: CERTIFICATE_VERIFY_FAILED] certificate verify failed: self signed certificate in certificate chain (_ssl.c:1056)'))': /simple/pil/\n",
      "  ERROR: Could not find a version that satisfies the requirement PIL (from versions: none)\n",
      "ERROR: No matching distribution found for PIL\n"
     ]
    }
   ],
   "source": [
    "!pip install --user pytesseract\n",
    "!pip install tempfile\n",
    "!pip install imutils\n",
    "!pip install datefinder\n",
    "!pip install cv2\n",
    "!pip install PIL"
   ]
  },
  {
   "cell_type": "markdown",
   "metadata": {},
   "source": [
    "## Importing modules"
   ]
  },
  {
   "cell_type": "code",
   "execution_count": 60,
   "metadata": {},
   "outputs": [],
   "source": [
    "import pytesseract\n",
    "from PIL import Image\n",
    "import os\n",
    "import re\n",
    "import tempfile\n",
    "import cv2\n",
    "import imutils\n",
    "import datefinder\n",
    "from collections.abc import Iterable\n",
    "import pandas as pd\n",
    "from datetime import datetime"
   ]
  },
  {
   "cell_type": "code",
   "execution_count": 61,
   "metadata": {},
   "outputs": [],
   "source": [
    "# Get images into all_images\n",
    "\n",
    "all_images=os.listdir(\"./images\")                    "
   ]
  },
  {
   "cell_type": "code",
   "execution_count": 62,
   "metadata": {},
   "outputs": [],
   "source": [
    "# Function to find text out of images\n",
    "\n",
    "def find_text(images):\n",
    "    text_of_all_images=[]\n",
    "    for file_name in images:\n",
    "        img=Image.open(r\"C:\\Users\\rkt30\\Desktop\\images\"+\"\\\\\"+file_name)\n",
    "        text_of_all_images.append(pytesseract.image_to_string(img))\n",
    "    return text_of_all_images"
   ]
  },
  {
   "cell_type": "code",
   "execution_count": 63,
   "metadata": {},
   "outputs": [],
   "source": [
    "# Call find_text function to find text out of images\n",
    "\n",
    "text_of_all_images=find_text(all_images)"
   ]
  },
  {
   "cell_type": "code",
   "execution_count": 64,
   "metadata": {},
   "outputs": [],
   "source": [
    "# Function to calculate single VIN number from text\n",
    "\n",
    "def findSingleVIN(text):\n",
    "    possible_VIN_numbers=[]\n",
    "    splitted_text=text.split()\n",
    "    for ele in splitted_text:\n",
    "        ele=re.sub(\"[^A-Z0-9*]\",\"\",ele)\n",
    "        if(len(ele)==17 or len(ele)==15 or len(ele)==19) :\n",
    "            possible_VIN_numbers.append(ele)\n",
    "    for ele in possible_VIN_numbers:\n",
    "        if (bool(re.match('[A-Z0-9*]',ele))):\n",
    "            VIN_number=ele\n",
    "            break\n",
    "    else:\n",
    "        VIN_number=None\n",
    "    return VIN_number\n",
    "\n",
    "# Function to find VIN numbers of all images\n",
    "\n",
    "def  findVIN(text_of_all_images):\n",
    "    VIN_numbers=[]\n",
    "    for single_text in text_of_all_images:\n",
    "        VIN_numbers.append(findSingleVIN(single_text))\n",
    "    return VIN_numbers"
   ]
  },
  {
   "cell_type": "code",
   "execution_count": 65,
   "metadata": {},
   "outputs": [],
   "source": [
    "# Function to calculate single MFG date from text\n",
    "\n",
    "def findSingleMFG(text):\n",
    "    possible_labels=['MFG','Mfg','Mig']\n",
    "    for label in possible_labels:\n",
    "        try:\n",
    "            index=text.index(label)\n",
    "            break\n",
    "        except:\n",
    "            index=None\n",
    "    \n",
    "    date=[]\n",
    "    if index:\n",
    "        lst=[i for i in range(len(text)) if (text.startswith('MFG', i) or text.startswith('Mfg', i) or text.startswith('Mig', i) )]\n",
    "        for i in lst:\n",
    "            date_string=text[i:i+20]\n",
    "            match = re.search(r'\\d{2}/\\d{4}', date_string)\n",
    "            if match:\n",
    "                try:\n",
    "                    temp = datetime.strptime(match.group(), '%m/%Y').date()\n",
    "                    date.append(temp)\n",
    "                    break\n",
    "                except:\n",
    "                    pass\n",
    "        else:\n",
    "            date.append(None)\n",
    "    else:\n",
    "        date.append(None)\n",
    "        \n",
    "    return date[0]\n",
    "\n",
    "\n",
    "# Function to find MFG dates of all images\n",
    "\n",
    "def findMFG(text_of_all_images):\n",
    "    MFGdates=[]\n",
    "    for single_text in text_of_all_images:\n",
    "        MFGdates.append(findSingleMFG(single_text))\n",
    "    return MFGdates"
   ]
  },
  {
   "cell_type": "code",
   "execution_count": 66,
   "metadata": {},
   "outputs": [],
   "source": [
    "# Function to calculate single registration date from text\n",
    "\n",
    "def findSingleRegd(text):\n",
    "    possible_labels=['REG. DT','REGN DT','Valid From']\n",
    "    for label in possible_labels:\n",
    "        try:\n",
    "            index=text.index(label)\n",
    "            break\n",
    "        except:\n",
    "            index=None\n",
    "    date=[]\n",
    "    threshold_l_date=datetime(2000,1,1)\n",
    "    threshold_r_date=datetime(2019,1,1)\n",
    "    if index:\n",
    "        lst=[i for i in range(len(text)) if (text.startswith('REG. DT', i) or text.startswith('Vaild From', i) or text.startswith('REGN DT', i))]\n",
    "        for i in lst:\n",
    "            date_string=text[i:i+20]\n",
    "            match1 = re.search(r'\\d{2}/\\d{2}/\\d{4}', date_string)\n",
    "            if match1:\n",
    "                try:\n",
    "                    temp = datetime.strptime(match1.group(), '%d/%m/%Y').date()\n",
    "                    if temp < datetime.date(threshold_l_date) or temp > datetime.date(threshold_r_date):\n",
    "                        continue\n",
    "                    else:\n",
    "                        date.append(temp)\n",
    "                        break\n",
    "                except:\n",
    "                    pass\n",
    "\n",
    "            match2 = re.search(r'\\d{2}/\\d{4}', date_string)\n",
    "            if not match1 and match2:\n",
    "                try:\n",
    "                    temp = datetime.strptime(match1.group(), '%m/%Y').date()\n",
    "                    if temp < datetime.date(threshold_l_date) or temp > datetime.date(threshold_r_date):\n",
    "                        continue\n",
    "                    else:\n",
    "                        date.append(temp)\n",
    "                        break\n",
    "                except:\n",
    "                    pass\n",
    "        else:\n",
    "            date.append(None)\n",
    "    else:\n",
    "        temp=datefinder.find_dates(text)\n",
    "        try:\n",
    "            for ele in temp:\n",
    "                    if datetime.date(ele) < datetime.date(threshold_l_date) or datetime.date(ele) > datetime.date(threshold_r_date):\n",
    "                        continue\n",
    "                    else:\n",
    "                        date.append(datetime.date(ele))\n",
    "                        break\n",
    "        except:\n",
    "            date.append(None)\n",
    "        else:\n",
    "            date.append(None)\n",
    "    \n",
    "    return date[0]\n",
    "\n",
    "\n",
    "# Function to find registration dates of all images\n",
    "\n",
    "def findRegd(text_of_all_images):\n",
    "    Reg_dates=[]\n",
    "    for single_text in text_of_all_images:\n",
    "        Reg_dates.append(findSingleRegd(single_text))\n",
    "    return Reg_dates"
   ]
  },
  {
   "cell_type": "code",
   "execution_count": 67,
   "metadata": {},
   "outputs": [],
   "source": [
    "# Function to find single name from text\n",
    "\n",
    "def findSingleName(text):\n",
    "    possible_labels=['Name','NAME']\n",
    "    index=-1\n",
    "    for label in possible_labels:\n",
    "        index=text.find(label)\n",
    "        if index!=-1:\n",
    "            break    \n",
    "        \n",
    "    if index!=-1:\n",
    "        possible_name=text[index+4:index+30]\n",
    "        \n",
    "        result = re.findall(r'(?:(?<=^)|(?<=[^A-Za-z.,]))[A-Za-z.,]+(?: [A-Za-z.,]+)*(?:(?=[^A-Za-z.,])|(?=$))', possible_name)\n",
    "    else:\n",
    "        result=None\n",
    "    return result\n",
    "\n",
    "\n",
    "# Function to find names from all images\n",
    "\n",
    "def findNames(text_of_all_images):\n",
    "    name_lst=[]\n",
    "    for single_name in text_of_all_images:\n",
    "        temp_name_lst=findSingleName(single_name)\n",
    "        if temp_name_lst:\n",
    "            name_lst.append(temp_name_lst[0])\n",
    "        else:\n",
    "            name_lst.append(None)\n",
    "    return name_lst"
   ]
  },
  {
   "cell_type": "code",
   "execution_count": 68,
   "metadata": {},
   "outputs": [],
   "source": [
    "# Function to find single registration number\n",
    "\n",
    "def findSingleRegn(text):\n",
    "    possible_labels=['REGN. NO','REGN . NO', 'Registration']\n",
    "    index=-1\n",
    "    for label in possible_labels:\n",
    "        index=text.find(label)\n",
    "        if index!=-1:\n",
    "            break    \n",
    "    \n",
    "    if index!=-1:\n",
    "        possible_text=text[index:index+30]\n",
    "        regn_number=possible_text.strip()\n",
    "        return regn_number\n",
    "\n",
    "    \n",
    "# Function to find registration numbers of all images\n",
    "    \n",
    "def findRegn(text_of_all_images):\n",
    "    regn_numbers=[]\n",
    "    for single_text in text_of_all_images:\n",
    "        regn_numbers.append(findSingleRegn(single_text))\n",
    "    return regn_numbers\n",
    "\n",
    "\n",
    "# Function to process registration numbers\n",
    "\n",
    "def processRegnNumbers(lst):\n",
    "    updated_lst=lst.copy()\n",
    "    for i in range(len(lst)):\n",
    "        if updated_lst[i]:\n",
    "            updated_lst[i]=updated_lst[i][11:]\n",
    "    \n",
    "    starting_n_end=[]\n",
    "    for ele in updated_lst:\n",
    "        if ele:\n",
    "            state_lst=['DL','HR']\n",
    "            s=-1\n",
    "            for i in state_lst:\n",
    "                s=ele.find(i)\n",
    "                if s!=-1:\n",
    "                    break\n",
    "            starting_n_end.append(s)\n",
    "        else:\n",
    "            starting_n_end.append(None)\n",
    "    \n",
    "    for i in range(len(starting_n_end)):\n",
    "        if starting_n_end[i] is not None:\n",
    "            if starting_n_end[i]!=-1:\n",
    "                updated_lst[i]=updated_lst[i][starting_n_end[i]:]\n",
    "                updated_lst[i]=updated_lst[i][:10]\n",
    "    \n",
    "    for i in range(len(starting_n_end)):\n",
    "        if starting_n_end[i] is not None:\n",
    "            updated_lst[i]=updated_lst[i].strip('\\n')\n",
    "    \n",
    "    \n",
    "    return updated_lst"
   ]
  },
  {
   "cell_type": "code",
   "execution_count": 69,
   "metadata": {},
   "outputs": [],
   "source": [
    "# Function to find single engine number\n",
    "\n",
    "def findSingleEngineNum(text):\n",
    "    possible_labels=['Engine','E NO']\n",
    "    index=-1\n",
    "    for label in possible_labels:\n",
    "        index=text.find(label)\n",
    "        if index!=-1:\n",
    "            break    \n",
    "    if index!=-1:\n",
    "        possible_text=text[index:index+30]\n",
    "        engine_number=possible_text.strip()\n",
    "        return engine_number\n",
    "\n",
    "    \n",
    "# Function to find engine numbers of all images\n",
    "    \n",
    "def findEngineNum(text_of_all_images):\n",
    "    engine_num=[]\n",
    "    for single_text in text_of_all_images:\n",
    "        engine_num.append(findSingleEngineNum(single_text))\n",
    "    return engine_num\n",
    "\n",
    "\n",
    "# Function to process the engine numbers\n",
    "\n",
    "def processEngineNumbers(engine_number):\n",
    "    possible_labels=['Engine','E','NO','No.','NO.']\n",
    "    updated_engine_no=[]\n",
    "    for single_engine in engine_number:\n",
    "        if single_engine:\n",
    "            splitted_lst=single_engine.split()\n",
    "            for ele in splitted_lst:\n",
    "                if bool(re.match('[A-Z0-9]',ele)):\n",
    "                    if ele not in possible_labels:\n",
    "                        updated_engine_no.append(ele)\n",
    "                        break\n",
    "            else:\n",
    "                updated_engine_no.append(None)\n",
    "        else:\n",
    "            updated_engine_no.append(None)\n",
    "    return updated_engine_no"
   ]
  },
  {
   "cell_type": "code",
   "execution_count": 70,
   "metadata": {},
   "outputs": [],
   "source": [
    "# Call function to find VIN numbers\n",
    "VIN_Numbers=findVIN(text_of_all_images)\n",
    "\n",
    "# Call function to find MFG dates\n",
    "manufacturing_date=findMFG(text_of_all_images)\n",
    "\n",
    "# Call function to find registration dates\n",
    "registration_date=findRegd(text_of_all_images)\n",
    "\n",
    "# Call function to find names\n",
    "names=findNames(text_of_all_images)\n",
    "\n",
    "# Call function to find registration dates\n",
    "regn_numbers=findRegn(text_of_all_images)\n",
    "\n",
    "# Call function to find engine numbers\n",
    "engine_numbers=findEngineNum(text_of_all_images)"
   ]
  },
  {
   "cell_type": "code",
   "execution_count": 71,
   "metadata": {},
   "outputs": [],
   "source": [
    "# Process obtained registration numbers\n",
    "\n",
    "updated_regn_numbers=processRegnNumbers(regn_numbers)"
   ]
  },
  {
   "cell_type": "code",
   "execution_count": 72,
   "metadata": {},
   "outputs": [],
   "source": [
    "# Process obtained engine numbers\n",
    "\n",
    "updated_engine_numbers=processEngineNumbers(engine_numbers)"
   ]
  },
  {
   "cell_type": "code",
   "execution_count": 73,
   "metadata": {},
   "outputs": [],
   "source": [
    "# Create dataframe\n",
    "\n",
    "data_frame=pd.DataFrame()"
   ]
  },
  {
   "cell_type": "code",
   "execution_count": 74,
   "metadata": {},
   "outputs": [],
   "source": [
    "# Put columns with data in data_frame\n",
    "\n",
    "data_frame['REGN. NO.']=updated_regn_numbers\n",
    "data_frame['Names']=names\n",
    "data_frame['VIN Number']=VIN_Numbers\n",
    "data_frame['MFG. Date']=manufacturing_date\n",
    "data_frame['REGN. Date']=registration_date\n",
    "data_frame['Engine No']=updated_engine_numbers"
   ]
  },
  {
   "cell_type": "code",
   "execution_count": 75,
   "metadata": {},
   "outputs": [],
   "source": [
    "# Save obtained data to csv file\n",
    "\n",
    "data_frame.to_csv('RC_data.csv')"
   ]
  },
  {
   "cell_type": "code",
   "execution_count": null,
   "metadata": {},
   "outputs": [],
   "source": []
  }
 ],
 "metadata": {
  "kernelspec": {
   "display_name": "Python 3",
   "language": "python",
   "name": "python3"
  },
  "language_info": {
   "codemirror_mode": {
    "name": "ipython",
    "version": 3
   },
   "file_extension": ".py",
   "mimetype": "text/x-python",
   "name": "python",
   "nbconvert_exporter": "python",
   "pygments_lexer": "ipython3",
   "version": "3.7.3"
  }
 },
 "nbformat": 4,
 "nbformat_minor": 2
}
